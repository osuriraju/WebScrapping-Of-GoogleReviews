{
 "cells": [
  {
   "cell_type": "code",
   "execution_count": 69,
   "metadata": {},
   "outputs": [],
   "source": [
    "from selenium import webdriver"
   ]
  },
  {
   "cell_type": "code",
   "execution_count": 74,
   "metadata": {},
   "outputs": [
    {
     "name": "stderr",
     "output_type": "stream",
     "text": [
      "C:\\Users\\n1704\\AppData\\Local\\Temp\\ipykernel_14752\\4185852811.py:2: DeprecationWarning: executable_path has been deprecated, please pass in a Service object\n",
      "  driver = webdriver.Chrome(pat)\n"
     ]
    }
   ],
   "source": [
    "pat = 'C:/Users/n1704/Downloads/chromedriver_win32/chromedriver'\n",
    "driver = webdriver.Chrome(pat)\n",
    "\n",
    "driver.get('https://www.google.com/search?q=ssr+happy+fitness&client=firefox-b-d&ei=kqRDZKK3O_qRseMP2I-u8A4&oq=ssr+fitnessgym&gs_lcp=Cgxnd3Mtd2l6LXNlcnAQARgBMggIABCiBBCwAzIICAAQogQQsAMyCAgAEKIEELADSgQIQRgBSgUIQBIBMVAAWABg3QloAXAAeACAAQCIAQCSAQCYAQDIAQPAAQE&sclient=gws-wiz-serp#lrd=0x3bcb9b60431550ed:0x5c0fbe8886765a83,1,,,,')\n",
    "\n",
    "driver.find_element('xpath', '//div[@data-sort-id=\"newestFirst\"]').click()\n",
    "\n",
    "\n",
    "names = []\n",
    "time = []\n",
    "review = []\n"
   ]
  },
  {
   "cell_type": "code",
   "execution_count": 92,
   "metadata": {},
   "outputs": [],
   "source": [
    "for i in driver.find_elements('xpath', '//div[@class=\"TSUbDb\"]'):\n",
    "    names.append(i.text)\n",
    "\n",
    "for i in driver.find_elements('xpath', '//span[@class=\"dehysf lTi8oc\"]'):\n",
    "    time.append(i.text)\n",
    "\n",
    "for i in driver.find_elements('xpath', '//div[@class=\"Jtu6Td\"]'):\n",
    "    review.append(i.text)\n",
    "\n",
    "while '' in time:\n",
    "    time.remove('')\n",
    "\n",
    "reviews = []\n",
    "for i in range(0,len(review)-2,2):\n",
    "    reviews.append(review[i])\n",
    "\n",
    "comments_data = []\n",
    "for i in range(10):\n",
    "    base = []\n",
    "    base.append(names[i])\n",
    "    base.append(time[i])\n",
    "    base.append(reviews[i])\n",
    "    comments_data.append(base)\n"
   ]
  },
  {
   "cell_type": "code",
   "execution_count": 93,
   "metadata": {},
   "outputs": [
    {
     "data": {
      "text/plain": [
       "[['Swathi Reddy', '3 days ago', ''],\n",
       " ['saketh reddy',\n",
       "  '4 days ago',\n",
       "  'I owe you my success to this gym,\\nThanks for the fantastic workout experience and best personal trainer in the gym. friendly environment and very good equipment.'],\n",
       " ['Hinata Hyuga', '4 days ago', ''],\n",
       " ['clash gaming', '4 days ago', ''],\n",
       " ['Dhanush Kumar',\n",
       "  '4 days ago',\n",
       "  'I highly recommend this gym. The equipment are good and they provide free training sessions with coach Satish Reddy. Making the workouts better.'],\n",
       " ['Dileep kumar palavalasa',\n",
       "  '2 weeks ago',\n",
       "  'I hope this review finds you well! I wanted to share my thoughts on my experience at  SSR HAPPY FITNESS TRAINING  over the past three months. Let me start by saying that joining Zym was one of the best decisions I have made for my health …More'],\n",
       " ['giridhar king',\n",
       "  '2 weeks ago',\n",
       "  'Training was good. It suits for body.daily a new workout to burn out calories. day start with ssr happy fitness. Our trainer Satish Reddy much enthusiastic to train the candidate s.'],\n",
       " ['Suraksha Childrens Hospital', '3 weeks ago', ''],\n",
       " ['Kiran Sagar',\n",
       "  'a month ago',\n",
       "  \"One of the best places to work out. You'll get personalised training by expert & celebrity coach. …More\"],\n",
       " ['Phani kumar',\n",
       "  'a month ago',\n",
       "  'This gym is amazing. Spacious facility, well maintained equipment and great environment. Good service with friendly Trainer (Satheesh) and super clean and comfortable gym for everyone from beginners to professional athletes to train at. …More']]"
      ]
     },
     "execution_count": 93,
     "metadata": {},
     "output_type": "execute_result"
    }
   ],
   "source": [
    "print(comments_data)"
   ]
  },
  {
   "cell_type": "code",
   "execution_count": null,
   "metadata": {},
   "outputs": [],
   "source": []
  }
 ],
 "metadata": {
  "kernelspec": {
   "display_name": "Python 3",
   "language": "python",
   "name": "python3"
  },
  "language_info": {
   "codemirror_mode": {
    "name": "ipython",
    "version": 3
   },
   "file_extension": ".py",
   "mimetype": "text/x-python",
   "name": "python",
   "nbconvert_exporter": "python",
   "pygments_lexer": "ipython3",
   "version": "3.10.5"
  },
  "orig_nbformat": 4
 },
 "nbformat": 4,
 "nbformat_minor": 2
}
