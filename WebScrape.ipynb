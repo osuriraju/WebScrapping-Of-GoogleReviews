{
 "cells": [
  {
   "cell_type": "code",
   "execution_count": 1,
   "metadata": {},
   "outputs": [],
   "source": [
    "from selenium import webdriver"
   ]
  },
  {
   "cell_type": "code",
   "execution_count": 8,
   "metadata": {},
   "outputs": [
    {
     "name": "stderr",
     "output_type": "stream",
     "text": [
      "C:\\Users\\n1704\\AppData\\Local\\Temp\\ipykernel_7868\\4171376185.py:2: DeprecationWarning: executable_path has been deprecated, please pass in a Service object\n",
      "  driver = webdriver.Chrome(pat)\n"
     ]
    }
   ],
   "source": [
    "pat = 'C:/Users/n1704/Downloads/chromedriver_win32/chromedriver'\n",
    "driver = webdriver.Chrome(pat)\n",
    "\n",
    "driver.get('https://www.google.com/search?q=ssr+happy+fitness&client=firefox-b-d&ei=kqRDZKK3O_qRseMP2I-u8A4&oq=ssr+fitnessgym&gs_lcp=Cgxnd3Mtd2l6LXNlcnAQARgBMggIABCiBBCwAzIICAAQogQQsAMyCAgAEKIEELADSgQIQRgBSgUIQBIBMVAAWABg3QloAXAAeACAAQCIAQCSAQCYAQDIAQPAAQE&sclient=gws-wiz-serp#lrd=0x3bcb9b60431550ed:0x5c0fbe8886765a83,1,,,,')\n",
    "\n",
    "names = []\n",
    "time = []\n",
    "review = []\n",
    "\n",
    "for i in driver.find_elements('xpath', '//div[@class=\"TSUbDb\"]'):\n",
    "    names.append(i.text)\n",
    "\n",
    "for i in driver.find_elements('xpath', '//span[@class=\"dehysf lTi8oc\"]'):\n",
    "    time.append(i.text)\n",
    "\n",
    "for i in driver.find_elements('xpath', '//div[@class=\"Jtu6Td\"]'):\n",
    "    review.append(i.text)\n",
    "\n",
    "\n"
   ]
  },
  {
   "cell_type": "code",
   "execution_count": 13,
   "metadata": {},
   "outputs": [],
   "source": [
    "comments_data = []\n",
    "for i in range(10):\n",
    "    base = []\n",
    "    base.append(names[i])\n",
    "    base.append(time[i])\n",
    "    base.append(review[i])\n",
    "    comments_data.append(base)\n"
   ]
  },
  {
   "cell_type": "code",
   "execution_count": 14,
   "metadata": {},
   "outputs": [
    {
     "data": {
      "text/plain": [
       "[['n girish rao',\n",
       "  '7 months ago',\n",
       "  'SSR Happy fitness is an amazing gym with lot of open space and with great equipment in the gym which is top notch! …More'],\n",
       " ['Lakshman Shyam Kumar', '', ''],\n",
       " ['Shashank Roy',\n",
       "  '10 months ago',\n",
       "  'I have been in search of a good gym for a while now and i feel this is the one. Its conveniently located in an amazing sports center with lot of fresh air and good vibes. My trainer/master sateesh takes personal attention on my workout …More'],\n",
       " ['anusha kaveti', '', ''],\n",
       " ['Neeraj G',\n",
       "  '2 months ago',\n",
       "  \"It's been 3 months since I joined this gym and i am glad that i did. The trainer here Mr. Sathish Reddy sir gives you a complete specialized workout based on your comfort, then gradually increases with time. He is always available to …More\"],\n",
       " ['Ranjit N', '', ''],\n",
       " ['Kandukuri Srivatsa',\n",
       "  '9 months ago',\n",
       "  \"After a month of training,i am posting this review. I'm loving each day at gym. Initially i was skeptical about me being disciplined and regular but with the kind of training that Sathish sir is providing, i am looking forward to challenge …More\"],\n",
       " ['Darun Phoenix', '', ''],\n",
       " ['Boina keshavaRaju',\n",
       "  '8 months ago',\n",
       "  'This gym is a perfect place for beginners and experts. It has all the equipment required and more. Our trainer (Mr Sateesh Sir) provides personal tips for everyone. He provided us with a perfect diet as well.'],\n",
       " ['Shaik Rehaman', '', '']]"
      ]
     },
     "execution_count": 14,
     "metadata": {},
     "output_type": "execute_result"
    }
   ],
   "source": [
    "comments_data"
   ]
  }
 ],
 "metadata": {
  "kernelspec": {
   "display_name": "Python 3",
   "language": "python",
   "name": "python3"
  },
  "language_info": {
   "codemirror_mode": {
    "name": "ipython",
    "version": 3
   },
   "file_extension": ".py",
   "mimetype": "text/x-python",
   "name": "python",
   "nbconvert_exporter": "python",
   "pygments_lexer": "ipython3",
   "version": "3.10.5"
  },
  "orig_nbformat": 4
 },
 "nbformat": 4,
 "nbformat_minor": 2
}
